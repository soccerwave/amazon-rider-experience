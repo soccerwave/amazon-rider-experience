{
 "cells": [
  {
   "cell_type": "code",
   "execution_count": 1,
   "id": "9805ffc9-be8f-4895-bef0-fd5940badfd5",
   "metadata": {},
   "outputs": [
    {
     "name": "stdout",
     "output_type": "stream",
     "text": [
      "       Pickup_Delay_Minutes   Distance_KM  Delivery_Speed_KMPH\n",
      "count          42666.000000  42666.000000         42666.000000\n",
      "mean               9.958046      9.690584             5.879556\n",
      "std                4.085759      5.610145             6.626779\n",
      "min                5.000000      1.465067             0.339202\n",
      "25%                5.000000      4.658009             2.602814\n",
      "50%               10.000000      9.193028             4.291371\n",
      "75%               15.000000     13.680927             6.740944\n",
      "max               15.000000     20.969489           119.850915\n"
     ]
    }
   ],
   "source": [
    "import pandas as pd\n",
    "import numpy as np\n",
    "import matplotlib.pyplot as plt\n",
    "import seaborn as sns\n",
    "from math import radians, cos, sin, asin, sqrt\n",
    "import os\n",
    "\n",
    "# showing all columns\n",
    "pd.set_option('display.max_columns', None)\n",
    "\n",
    "df = pd.read_csv('../data/raw/amazon_delivery.csv')\n",
    "\n",
    "df['Order_Date'] = df['Order_Date'].astype(str)\n",
    "df['Order_Time'] = df['Order_Time'].astype(str)\n",
    "df['Pickup_Time'] = df['Pickup_Time'].astype(str)\n",
    "\n",
    "# removing rows without order or pickup timeد\n",
    "df = df[~df['Order_Time'].str.lower().str.contains('nan')]\n",
    "df = df[~df['Pickup_Time'].str.lower().str.contains('nan')]\n",
    "\n",
    "# making columns with date + time\n",
    "df['Order_Datetime'] = pd.to_datetime(df['Order_Date'] + ' ' + df['Order_Time'], errors='coerce')\n",
    "df['Pickup_Datetime'] = pd.to_datetime(df['Order_Date'] + ' ' + df['Pickup_Time'], errors='coerce')\n",
    "df['Order_Date'] = pd.to_datetime(df['Order_Date'], errors='coerce')\n",
    "\n",
    "# removing wrong rows\n",
    "df = df.dropna(subset=['Order_Datetime', 'Pickup_Datetime'])\n",
    "\n",
    "# delay of rider\n",
    "df['Pickup_Delay_Minutes'] = (df['Pickup_Datetime'] - df['Order_Datetime']).dt.total_seconds() / 60\n",
    "\n",
    "# haversine formula\n",
    "def haversine(lat1, lon1, lat2, lon2):\n",
    "    R = 6371\n",
    "    lat1, lon1, lat2, lon2 = map(radians, [lat1, lon1, lat2, lon2])\n",
    "    dlon = lon2 - lon1\n",
    "    dlat = lat2 - lat1\n",
    "    a = sin(dlat/2)**2 + cos(lat1)*cos(lat2)*sin(dlon/2)**2\n",
    "    return 2 * R * asin(sqrt(a))\n",
    "\n",
    "# distance for every row\n",
    "df['Distance_KM'] = df.apply(lambda row: haversine(row['Store_Latitude'], row['Store_Longitude'],\n",
    "                                                   row['Drop_Latitude'], row['Drop_Longitude']), axis=1)\n",
    "\n",
    "# for not division to 0\n",
    "df = df[df['Delivery_Time'] > 0]\n",
    "df = df[df['Pickup_Datetime'] >= df['Order_Datetime']]\n",
    "\n",
    "# speed of rider\n",
    "df['Delivery_Speed_KMPH'] = df['Distance_KM'] / (df['Delivery_Time'] / 60)\n",
    "\n",
    "# removing wrong distances\n",
    "df = df[df['Pickup_Datetime'] >= df['Order_Datetime']]\n",
    "df = df[df['Distance_KM'] <= 500]\n",
    "df = df[df['Delivery_Speed_KMPH'] <= 150]\n",
    "\n",
    "# replacing non in agent rating and weather\n",
    "df['Agent_Rating'] = df['Agent_Rating'].fillna(df['Agent_Rating'].mean())\n",
    "df['Weather'] = df['Weather'].fillna('Unknown')\n",
    "\n",
    "# final file\n",
    "os.makedirs('../data/processed', exist_ok=True)\n",
    "df.to_csv('../data/processed/cleaned_amazon.csv', index=False)\n",
    "\n",
    "# key results\n",
    "print(df[['Pickup_Delay_Minutes', 'Distance_KM', 'Delivery_Speed_KMPH']].describe())\n"
   ]
  }
 ],
 "metadata": {
  "kernelspec": {
   "display_name": "Python 3 (ipykernel)",
   "language": "python",
   "name": "python3"
  },
  "language_info": {
   "codemirror_mode": {
    "name": "ipython",
    "version": 3
   },
   "file_extension": ".py",
   "mimetype": "text/x-python",
   "name": "python",
   "nbconvert_exporter": "python",
   "pygments_lexer": "ipython3",
   "version": "3.13.5"
  }
 },
 "nbformat": 4,
 "nbformat_minor": 5
}
