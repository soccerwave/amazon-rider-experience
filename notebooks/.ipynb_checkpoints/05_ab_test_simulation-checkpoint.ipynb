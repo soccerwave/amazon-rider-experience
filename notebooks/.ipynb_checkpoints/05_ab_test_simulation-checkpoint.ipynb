{
 "cells": [
  {
   "cell_type": "code",
   "execution_count": null,
   "id": "ee421ded-04e9-429a-b1e2-da48bd718f45",
   "metadata": {},
   "outputs": [],
   "source": [
    "import pandas as pd\n",
    "\n",
    "df = pd.read_csv('../data/processed/cleaned_amazon.csv')\n",
    "\n",
    "# riders with more than 10 orders\n",
    "agent_counts = df['Agent_Age'].value_counts()\n",
    "eligible_agents = agent_counts[agent_counts > 10].index.tolist()\n",
    "\n",
    "df['Group'] = df['Agent_Age'].apply(lambda x: 'B' if x in eligible_agents else 'A')\n"
   ]
  },
  {
   "cell_type": "code",
   "execution_count": null,
   "id": "cf4df876-f516-44fd-8508-a0f39bf5c10a",
   "metadata": {},
   "outputs": [],
   "source": [
    "ab_summary = df.groupby('Group').agg({\n",
    "    'Pickup_Delay_Minutes': 'mean',\n",
    "    'Delivery_Speed_KMPH': 'mean',\n",
    "    'Agent_Rating': 'mean'\n",
    "}).reset_index()\n",
    "\n",
    "ab_summary.to_csv('../reports/ab_summary.csv', index=False)"
   ]
  },
  {
   "cell_type": "code",
   "execution_count": null,
   "id": "e3a00e7f-c1c9-44e7-b35e-6fd8e4a885f0",
   "metadata": {},
   "outputs": [],
   "source": [
    "from scipy.stats import ttest_ind\n",
    "\n",
    "group_a = df[df['Group'] == 'A']['Pickup_Delay_Minutes']\n",
    "group_b = df[df['Group'] == 'B']['Pickup_Delay_Minutes']\n",
    "\n",
    "t_stat, p_val = ttest_ind(group_a, group_b, equal_var=False)\n",
    "\n",
    "print(f\"T-statistic = {t_stat:.3f}, P-value = {p_val:.4f}\")"
   ]
  },
  {
   "cell_type": "code",
   "execution_count": null,
   "id": "bcc4b608-c3f0-4ea9-a7d7-12ab2a1a244b",
   "metadata": {},
   "outputs": [],
   "source": [
    "import matplotlib.pyplot as plt\n",
    "\n",
    "metrics = ['Pickup_Delay_Minutes', 'Delivery_Speed_KMPH', 'Agent_Rating']\n",
    "colors = ['steelblue', 'orange', 'green']\n",
    "\n",
    "fig, ax = plt.subplots(1, 3, figsize=(15, 5))\n",
    "\n",
    "for i, metric in enumerate(metrics):\n",
    "    ab_summary.plot(kind='bar', x='Group', y=metric, ax=ax[i], legend=False, color=colors[i])\n",
    "    ax[i].set_title(metric)\n",
    "    ax[i].set_xlabel('')\n",
    "    ax[i].set_ylabel('')\n",
    "\n",
    "plt.suptitle('A/B Group Comparison on Key Metrics')\n",
    "plt.tight_layout()\n",
    "plt.savefig('../reports/screenshots/ab_test_comparison.png')\n",
    "plt.show()\n"
   ]
  },
  {
   "cell_type": "code",
   "execution_count": null,
   "id": "71f7b4d5-6cee-4a39-8402-49101fcbccfa",
   "metadata": {},
   "outputs": [],
   "source": [
    "#If p < 0.05:\n",
    "#→ The result is statistically significant.\n",
    "#Otherwise:\n",
    "#→ No significant difference between groups.\n",
    "\n",
    "### insights: This allows us to evaluate if loyalty incentives truly impact rider behavior."
   ]
  }
 ],
 "metadata": {
  "kernelspec": {
   "display_name": "Python 3 (ipykernel)",
   "language": "python",
   "name": "python3"
  },
  "language_info": {
   "codemirror_mode": {
    "name": "ipython",
    "version": 3
   },
   "file_extension": ".py",
   "mimetype": "text/x-python",
   "name": "python",
   "nbconvert_exporter": "python",
   "pygments_lexer": "ipython3",
   "version": "3.13.2"
  }
 },
 "nbformat": 4,
 "nbformat_minor": 5
}
